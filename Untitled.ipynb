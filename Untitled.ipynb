{
 "cells": [
  {
   "cell_type": "code",
   "execution_count": 65,
   "id": "1978a3a5",
   "metadata": {},
   "outputs": [
    {
     "name": "stderr",
     "output_type": "stream",
     "text": [
      "Unclosed client session\n",
      "client_session: <aiohttp.client.ClientSession object at 0x7f8c9f8be970>\n"
     ]
    },
    {
     "ename": "AttributeError",
     "evalue": "'Client' object has no attribute 'get_account'",
     "output_type": "error",
     "traceback": [
      "\u001b[0;31m---------------------------------------------------------------------------\u001b[0m",
      "\u001b[0;31mAttributeError\u001b[0m                            Traceback (most recent call last)",
      "Input \u001b[0;32mIn [65]\u001b[0m, in \u001b[0;36m<cell line: 8>\u001b[0;34m()\u001b[0m\n\u001b[1;32m      6\u001b[0m BINANCE_SECRET_KEY \u001b[38;5;241m=\u001b[39m \u001b[38;5;124mr\u001b[39m\u001b[38;5;124m'\u001b[39m\u001b[38;5;124mXtmApcUlvJ4lgnxoVuv1iTuHtjvgxnA2KkN3YVI9Alf75mcc2DGg37ydeUkcVqWq\u001b[39m\u001b[38;5;124m'\u001b[39m\n\u001b[1;32m      7\u001b[0m client \u001b[38;5;241m=\u001b[39m Client(BINANCE_API_KEY, BINANCE_SECRET_KEY)\n\u001b[0;32m----> 8\u001b[0m \u001b[38;5;28mprint\u001b[39m(\u001b[38;5;28;43mgetattr\u001b[39;49m\u001b[43m(\u001b[49m\u001b[43mclient\u001b[49m\u001b[43m,\u001b[49m\u001b[43m \u001b[49m\u001b[38;5;124;43m'\u001b[39;49m\u001b[38;5;124;43mget_account\u001b[39;49m\u001b[38;5;124;43m'\u001b[39;49m\u001b[43m)\u001b[49m)\n",
      "\u001b[0;31mAttributeError\u001b[0m: 'Client' object has no attribute 'get_account'"
     ]
    }
   ],
   "source": [
    "from tqdm import tqdm\n",
    "import pandas as pd\n",
    "from binance.client import Client\n",
    "\n",
    "BINANCE_API_KEY = r'df78VsoMYywYBGw6Wbx3khlqh0CTHQMxm9emoyhgZSUeSWwYyYrGdfuKR5rfGvbQ'\n",
    "BINANCE_SECRET_KEY = r'XtmApcUlvJ4lgnxoVuv1iTuHtjvgxnA2KkN3YVI9Alf75mcc2DGg37ydeUkcVqWq'\n",
    "client = Client(BINANCE_API_KEY, BINANCE_SECRET_KEY)\n",
    "print(getattr(client, 'get_account'))"
   ]
  },
  {
   "cell_type": "code",
   "execution_count": null,
   "id": "72c9b65d",
   "metadata": {},
   "outputs": [],
   "source": [
    "from sqlalchemy import create_engine"
   ]
  },
  {
   "cell_type": "code",
   "execution_count": null,
   "id": "4fda2f1c",
   "metadata": {},
   "outputs": [],
   "source": [
    "coins = ('BTCUSDT','ETHUSDT','BNBUSDT','SOLUSDT','ADAUSDT','XRPUSDT','DOTUSDT','LUNAUSDT',\n",
    "         'DOGEUSDT','AVAXUSDT','SHIBUSDT','MATICUSDT','LTCUSDT','UNIUSDT','ALGOUSDT','TRXUSDT',\n",
    "         'LINKUSDT','MANAUSDT','ATOMUSDT','VETUSDT')"
   ]
  },
  {
   "cell_type": "code",
   "execution_count": null,
   "id": "aeeeac86",
   "metadata": {},
   "outputs": [],
   "source": [
    "def get_minute_data(symbol, lookback): # lookback = x days in the past\n",
    "    frame = pd.DataFrame(client.get_historical_klines(symbol, '1m', lookback + ' days ago UTC'))\n",
    "    return frame"
   ]
  },
  {
   "cell_type": "code",
   "execution_count": null,
   "id": "0b8e6c38",
   "metadata": {},
   "outputs": [],
   "source": [
    "get_minute_data('BTCUSDT', '1')"
   ]
  }
 ],
 "metadata": {
  "kernelspec": {
   "display_name": "Python 3 (ipykernel)",
   "language": "python",
   "name": "python3"
  },
  "language_info": {
   "codemirror_mode": {
    "name": "ipython",
    "version": 3
   },
   "file_extension": ".py",
   "mimetype": "text/x-python",
   "name": "python",
   "nbconvert_exporter": "python",
   "pygments_lexer": "ipython3",
   "version": "3.8.10"
  }
 },
 "nbformat": 4,
 "nbformat_minor": 5
}
